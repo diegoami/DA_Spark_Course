{
 "cells": [
  {
   "cell_type": "code",
   "execution_count": 1,
   "metadata": {
    "collapsed": true
   },
   "outputs": [],
   "source": [
    "import pyspark\n",
    "sc = pyspark.SparkContext('local[*]')"
   ]
  },
  {
   "cell_type": "code",
   "execution_count": 2,
   "metadata": {
    "collapsed": true
   },
   "outputs": [],
   "source": [
    "!rm -rf metastore_db/*.lck\n",
    "\n",
    "from pyspark.sql import SQLContext\n",
    "sqlc = SQLContext(sc)"
   ]
  },
  {
   "cell_type": "code",
   "execution_count": 3,
   "metadata": {
    "collapsed": true
   },
   "outputs": [],
   "source": [
    "from pyspark.sql.functions import rand, randn\n",
    "from pyspark.ml.feature import VectorAssembler\n",
    "\n",
    "dfRandom = sqlc.range(0, 10).select(\"id\") \\\n",
    "            .withColumn(\"uniform\", rand(10)) \\\n",
    "            .withColumn(\"normal1\", randn(10)) \\\n",
    "            .withColumn(\"normal2\", randn(11))\n",
    "            \n",
    "assembler = VectorAssembler(inputCols = [\"uniform\",\"normal1\",\"normal2\"], outputCol = \"features\")\n",
    "\n",
    "dfVec = assembler.transform(dfRandom)"
   ]
  },
  {
   "cell_type": "code",
   "execution_count": 5,
   "metadata": {},
   "outputs": [
    {
     "data": {
      "text/html": [
       "<div>\n",
       "<style>\n",
       "    .dataframe thead tr:only-child th {\n",
       "        text-align: right;\n",
       "    }\n",
       "\n",
       "    .dataframe thead th {\n",
       "        text-align: left;\n",
       "    }\n",
       "\n",
       "    .dataframe tbody tr th {\n",
       "        vertical-align: top;\n",
       "    }\n",
       "</style>\n",
       "<table border=\"1\" class=\"dataframe\">\n",
       "  <thead>\n",
       "    <tr style=\"text-align: right;\">\n",
       "      <th></th>\n",
       "      <th>id</th>\n",
       "      <th>uniform</th>\n",
       "      <th>normal1</th>\n",
       "      <th>normal2</th>\n",
       "    </tr>\n",
       "  </thead>\n",
       "  <tbody>\n",
       "    <tr>\n",
       "      <th>0</th>\n",
       "      <td>0</td>\n",
       "      <td>0.413713</td>\n",
       "      <td>-0.587748</td>\n",
       "      <td>-0.256535</td>\n",
       "    </tr>\n",
       "    <tr>\n",
       "      <th>1</th>\n",
       "      <td>1</td>\n",
       "      <td>0.198292</td>\n",
       "      <td>-0.256535</td>\n",
       "      <td>-0.506854</td>\n",
       "    </tr>\n",
       "    <tr>\n",
       "      <th>2</th>\n",
       "      <td>2</td>\n",
       "      <td>0.120307</td>\n",
       "      <td>-0.506854</td>\n",
       "      <td>-0.141370</td>\n",
       "    </tr>\n",
       "    <tr>\n",
       "      <th>3</th>\n",
       "      <td>3</td>\n",
       "      <td>0.442929</td>\n",
       "      <td>-0.141370</td>\n",
       "      <td>-0.726588</td>\n",
       "    </tr>\n",
       "    <tr>\n",
       "      <th>4</th>\n",
       "      <td>4</td>\n",
       "      <td>0.889878</td>\n",
       "      <td>0.965767</td>\n",
       "      <td>0.891697</td>\n",
       "    </tr>\n",
       "    <tr>\n",
       "      <th>5</th>\n",
       "      <td>5</td>\n",
       "      <td>0.273107</td>\n",
       "      <td>-0.726588</td>\n",
       "      <td>-1.198539</td>\n",
       "    </tr>\n",
       "    <tr>\n",
       "      <th>6</th>\n",
       "      <td>6</td>\n",
       "      <td>0.870794</td>\n",
       "      <td>-1.198539</td>\n",
       "      <td>-0.117111</td>\n",
       "    </tr>\n",
       "    <tr>\n",
       "      <th>7</th>\n",
       "      <td>7</td>\n",
       "      <td>0.271493</td>\n",
       "      <td>-0.117111</td>\n",
       "      <td>0.304946</td>\n",
       "    </tr>\n",
       "    <tr>\n",
       "      <th>8</th>\n",
       "      <td>8</td>\n",
       "      <td>0.603714</td>\n",
       "      <td>0.304946</td>\n",
       "      <td>0.039339</td>\n",
       "    </tr>\n",
       "    <tr>\n",
       "      <th>9</th>\n",
       "      <td>9</td>\n",
       "      <td>0.143567</td>\n",
       "      <td>-1.048001</td>\n",
       "      <td>-0.963547</td>\n",
       "    </tr>\n",
       "  </tbody>\n",
       "</table>\n",
       "</div>"
      ],
      "text/plain": [
       "   id   uniform   normal1   normal2\n",
       "0   0  0.413713 -0.587748 -0.256535\n",
       "1   1  0.198292 -0.256535 -0.506854\n",
       "2   2  0.120307 -0.506854 -0.141370\n",
       "3   3  0.442929 -0.141370 -0.726588\n",
       "4   4  0.889878  0.965767  0.891697\n",
       "5   5  0.273107 -0.726588 -1.198539\n",
       "6   6  0.870794 -1.198539 -0.117111\n",
       "7   7  0.271493 -0.117111  0.304946\n",
       "8   8  0.603714  0.304946  0.039339\n",
       "9   9  0.143567 -1.048001 -0.963547"
      ]
     },
     "execution_count": 5,
     "metadata": {},
     "output_type": "execute_result"
    }
   ],
   "source": [
    "dfRandom.toPandas()"
   ]
  },
  {
   "cell_type": "code",
   "execution_count": 6,
   "metadata": {},
   "outputs": [
    {
     "data": {
      "text/html": [
       "<div>\n",
       "<style>\n",
       "    .dataframe thead tr:only-child th {\n",
       "        text-align: right;\n",
       "    }\n",
       "\n",
       "    .dataframe thead th {\n",
       "        text-align: left;\n",
       "    }\n",
       "\n",
       "    .dataframe tbody tr th {\n",
       "        vertical-align: top;\n",
       "    }\n",
       "</style>\n",
       "<table border=\"1\" class=\"dataframe\">\n",
       "  <thead>\n",
       "    <tr style=\"text-align: right;\">\n",
       "      <th></th>\n",
       "      <th>id</th>\n",
       "      <th>uniform</th>\n",
       "      <th>normal1</th>\n",
       "      <th>normal2</th>\n",
       "      <th>features</th>\n",
       "    </tr>\n",
       "  </thead>\n",
       "  <tbody>\n",
       "    <tr>\n",
       "      <th>0</th>\n",
       "      <td>0</td>\n",
       "      <td>0.413713</td>\n",
       "      <td>-0.587748</td>\n",
       "      <td>-0.256535</td>\n",
       "      <td>[0.41371264721, -0.587748239674, -0.256535324205]</td>\n",
       "    </tr>\n",
       "    <tr>\n",
       "      <th>1</th>\n",
       "      <td>1</td>\n",
       "      <td>0.198292</td>\n",
       "      <td>-0.256535</td>\n",
       "      <td>-0.506854</td>\n",
       "      <td>[0.198291963821, -0.256535324205, -0.506853671...</td>\n",
       "    </tr>\n",
       "    <tr>\n",
       "      <th>2</th>\n",
       "      <td>2</td>\n",
       "      <td>0.120307</td>\n",
       "      <td>-0.506854</td>\n",
       "      <td>-0.141370</td>\n",
       "      <td>[0.120307152585, -0.506853671746, -0.141369919...</td>\n",
       "    </tr>\n",
       "    <tr>\n",
       "      <th>3</th>\n",
       "      <td>3</td>\n",
       "      <td>0.442929</td>\n",
       "      <td>-0.141370</td>\n",
       "      <td>-0.726588</td>\n",
       "      <td>[0.442929185213, -0.141369919356, -0.726587521...</td>\n",
       "    </tr>\n",
       "    <tr>\n",
       "      <th>4</th>\n",
       "      <td>4</td>\n",
       "      <td>0.889878</td>\n",
       "      <td>0.965767</td>\n",
       "      <td>0.891697</td>\n",
       "      <td>[0.889878425389, 0.965766508876, 0.891697335754]</td>\n",
       "    </tr>\n",
       "    <tr>\n",
       "      <th>5</th>\n",
       "      <td>5</td>\n",
       "      <td>0.273107</td>\n",
       "      <td>-0.726588</td>\n",
       "      <td>-1.198539</td>\n",
       "      <td>[0.273107306848, -0.726587521995, -1.19853855262]</td>\n",
       "    </tr>\n",
       "    <tr>\n",
       "      <th>6</th>\n",
       "      <td>6</td>\n",
       "      <td>0.870794</td>\n",
       "      <td>-1.198539</td>\n",
       "      <td>-0.117111</td>\n",
       "      <td>[0.870793547001, -1.19853855262, -0.117110926001]</td>\n",
       "    </tr>\n",
       "    <tr>\n",
       "      <th>7</th>\n",
       "      <td>7</td>\n",
       "      <td>0.271493</td>\n",
       "      <td>-0.117111</td>\n",
       "      <td>0.304946</td>\n",
       "      <td>[0.271493317932, -0.117110926001, 0.304945613282]</td>\n",
       "    </tr>\n",
       "    <tr>\n",
       "      <th>8</th>\n",
       "      <td>8</td>\n",
       "      <td>0.603714</td>\n",
       "      <td>0.304946</td>\n",
       "      <td>0.039339</td>\n",
       "      <td>[0.603714357844, 0.304945613282, 0.0393394905131]</td>\n",
       "    </tr>\n",
       "    <tr>\n",
       "      <th>9</th>\n",
       "      <td>9</td>\n",
       "      <td>0.143567</td>\n",
       "      <td>-1.048001</td>\n",
       "      <td>-0.963547</td>\n",
       "      <td>[0.143566883898, -1.04800065723, -0.963546696012]</td>\n",
       "    </tr>\n",
       "  </tbody>\n",
       "</table>\n",
       "</div>"
      ],
      "text/plain": [
       "   id   uniform   normal1   normal2  \\\n",
       "0   0  0.413713 -0.587748 -0.256535   \n",
       "1   1  0.198292 -0.256535 -0.506854   \n",
       "2   2  0.120307 -0.506854 -0.141370   \n",
       "3   3  0.442929 -0.141370 -0.726588   \n",
       "4   4  0.889878  0.965767  0.891697   \n",
       "5   5  0.273107 -0.726588 -1.198539   \n",
       "6   6  0.870794 -1.198539 -0.117111   \n",
       "7   7  0.271493 -0.117111  0.304946   \n",
       "8   8  0.603714  0.304946  0.039339   \n",
       "9   9  0.143567 -1.048001 -0.963547   \n",
       "\n",
       "                                            features  \n",
       "0  [0.41371264721, -0.587748239674, -0.256535324205]  \n",
       "1  [0.198291963821, -0.256535324205, -0.506853671...  \n",
       "2  [0.120307152585, -0.506853671746, -0.141369919...  \n",
       "3  [0.442929185213, -0.141369919356, -0.726587521...  \n",
       "4   [0.889878425389, 0.965766508876, 0.891697335754]  \n",
       "5  [0.273107306848, -0.726587521995, -1.19853855262]  \n",
       "6  [0.870793547001, -1.19853855262, -0.117110926001]  \n",
       "7  [0.271493317932, -0.117110926001, 0.304945613282]  \n",
       "8  [0.603714357844, 0.304945613282, 0.0393394905131]  \n",
       "9  [0.143566883898, -1.04800065723, -0.963546696012]  "
      ]
     },
     "execution_count": 6,
     "metadata": {},
     "output_type": "execute_result"
    }
   ],
   "source": [
    "dfVec.toPandas()"
   ]
  },
  {
   "cell_type": "markdown",
   "metadata": {},
   "source": [
    "## Data Normalization"
   ]
  },
  {
   "cell_type": "markdown",
   "metadata": {},
   "source": [
    "### Normalizer"
   ]
  },
  {
   "cell_type": "code",
   "execution_count": 7,
   "metadata": {
    "collapsed": true
   },
   "outputs": [],
   "source": [
    "\n",
    "from pyspark.ml.feature import Normalizer"
   ]
  },
  {
   "cell_type": "code",
   "execution_count": 8,
   "metadata": {
    "collapsed": true
   },
   "outputs": [],
   "source": [
    "scaler1 = Normalizer().setInputCol(\"features\").setOutputCol(\"scaledFeat\").setP(1.0)"
   ]
  },
  {
   "cell_type": "code",
   "execution_count": 9,
   "metadata": {},
   "outputs": [
    {
     "name": "stdout",
     "output_type": "stream",
     "text": [
      "+---+--------------------+--------------------+\n",
      "| id|            features|          scaledFeat|\n",
      "+---+--------------------+--------------------+\n",
      "|  0|[0.41371264720975...|[0.32886636983701...|\n",
      "|  1|[0.19829196382083...|[0.20619308493718...|\n",
      "|  2|[0.12030715258495...|[0.15654175655718...|\n",
      "|  3|[0.44292918521277...|[0.33788519635286...|\n",
      "|  4|[0.88987842538862...|[0.32390519197407...|\n",
      "+---+--------------------+--------------------+\n",
      "only showing top 5 rows\n",
      "\n"
     ]
    }
   ],
   "source": [
    "scaler1.transform(dfVec.select(\"id\",\"features\")).show(5)"
   ]
  },
  {
   "cell_type": "code",
   "execution_count": 10,
   "metadata": {},
   "outputs": [
    {
     "data": {
      "text/html": [
       "<div>\n",
       "<style>\n",
       "    .dataframe thead tr:only-child th {\n",
       "        text-align: right;\n",
       "    }\n",
       "\n",
       "    .dataframe thead th {\n",
       "        text-align: left;\n",
       "    }\n",
       "\n",
       "    .dataframe tbody tr th {\n",
       "        vertical-align: top;\n",
       "    }\n",
       "</style>\n",
       "<table border=\"1\" class=\"dataframe\">\n",
       "  <thead>\n",
       "    <tr style=\"text-align: right;\">\n",
       "      <th></th>\n",
       "      <th>id</th>\n",
       "      <th>features</th>\n",
       "      <th>scaledFeat</th>\n",
       "    </tr>\n",
       "  </thead>\n",
       "  <tbody>\n",
       "    <tr>\n",
       "      <th>0</th>\n",
       "      <td>0</td>\n",
       "      <td>[0.41371264721, -0.587748239674, -0.256535324205]</td>\n",
       "      <td>[0.328866369837, -0.467209864778, -0.203923765...</td>\n",
       "    </tr>\n",
       "    <tr>\n",
       "      <th>1</th>\n",
       "      <td>1</td>\n",
       "      <td>[0.198291963821, -0.256535324205, -0.506853671...</td>\n",
       "      <td>[0.206193084937, -0.266757204246, -0.527049710...</td>\n",
       "    </tr>\n",
       "    <tr>\n",
       "      <th>2</th>\n",
       "      <td>2</td>\n",
       "      <td>[0.120307152585, -0.506853671746, -0.141369919...</td>\n",
       "      <td>[0.156541756557, -0.659509949224, -0.183948294...</td>\n",
       "    </tr>\n",
       "    <tr>\n",
       "      <th>3</th>\n",
       "      <td>3</td>\n",
       "      <td>[0.442929185213, -0.141369919356, -0.726587521...</td>\n",
       "      <td>[0.337885196353, -0.107842979317, -0.55427182433]</td>\n",
       "    </tr>\n",
       "    <tr>\n",
       "      <th>4</th>\n",
       "      <td>4</td>\n",
       "      <td>[0.889878425389, 0.965766508876, 0.891697335754]</td>\n",
       "      <td>[0.323905191974, 0.351527554253, 0.324567253773]</td>\n",
       "    </tr>\n",
       "    <tr>\n",
       "      <th>5</th>\n",
       "      <td>5</td>\n",
       "      <td>[0.273107306848, -0.726587521995, -1.19853855262]</td>\n",
       "      <td>[0.124239450256, -0.330532475816, -0.545228073...</td>\n",
       "    </tr>\n",
       "    <tr>\n",
       "      <th>6</th>\n",
       "      <td>6</td>\n",
       "      <td>[0.870793547001, -1.19853855262, -0.117110926001]</td>\n",
       "      <td>[0.39826948921, -0.548168206797, -0.0535623039...</td>\n",
       "    </tr>\n",
       "    <tr>\n",
       "      <th>7</th>\n",
       "      <td>7</td>\n",
       "      <td>[0.271493317932, -0.117110926001, 0.304945613282]</td>\n",
       "      <td>[0.391454651901, -0.168857256307, 0.439688091793]</td>\n",
       "    </tr>\n",
       "    <tr>\n",
       "      <th>8</th>\n",
       "      <td>8</td>\n",
       "      <td>[0.603714357844, 0.304945613282, 0.0393394905131]</td>\n",
       "      <td>[0.636829853047, 0.321672770525, 0.041497376428]</td>\n",
       "    </tr>\n",
       "    <tr>\n",
       "      <th>9</th>\n",
       "      <td>9</td>\n",
       "      <td>[0.143566883898, -1.04800065723, -0.963546696012]</td>\n",
       "      <td>[0.0666168323812, -0.486285431727, -0.44709773...</td>\n",
       "    </tr>\n",
       "  </tbody>\n",
       "</table>\n",
       "</div>"
      ],
      "text/plain": [
       "   id                                           features  \\\n",
       "0   0  [0.41371264721, -0.587748239674, -0.256535324205]   \n",
       "1   1  [0.198291963821, -0.256535324205, -0.506853671...   \n",
       "2   2  [0.120307152585, -0.506853671746, -0.141369919...   \n",
       "3   3  [0.442929185213, -0.141369919356, -0.726587521...   \n",
       "4   4   [0.889878425389, 0.965766508876, 0.891697335754]   \n",
       "5   5  [0.273107306848, -0.726587521995, -1.19853855262]   \n",
       "6   6  [0.870793547001, -1.19853855262, -0.117110926001]   \n",
       "7   7  [0.271493317932, -0.117110926001, 0.304945613282]   \n",
       "8   8  [0.603714357844, 0.304945613282, 0.0393394905131]   \n",
       "9   9  [0.143566883898, -1.04800065723, -0.963546696012]   \n",
       "\n",
       "                                          scaledFeat  \n",
       "0  [0.328866369837, -0.467209864778, -0.203923765...  \n",
       "1  [0.206193084937, -0.266757204246, -0.527049710...  \n",
       "2  [0.156541756557, -0.659509949224, -0.183948294...  \n",
       "3  [0.337885196353, -0.107842979317, -0.55427182433]  \n",
       "4   [0.323905191974, 0.351527554253, 0.324567253773]  \n",
       "5  [0.124239450256, -0.330532475816, -0.545228073...  \n",
       "6  [0.39826948921, -0.548168206797, -0.0535623039...  \n",
       "7  [0.391454651901, -0.168857256307, 0.439688091793]  \n",
       "8   [0.636829853047, 0.321672770525, 0.041497376428]  \n",
       "9  [0.0666168323812, -0.486285431727, -0.44709773...  "
      ]
     },
     "execution_count": 10,
     "metadata": {},
     "output_type": "execute_result"
    }
   ],
   "source": [
    "scaler1.transform(dfVec.select(\"id\",\"features\")).toPandas()"
   ]
  },
  {
   "cell_type": "markdown",
   "metadata": {},
   "source": [
    "### Standard Scaler"
   ]
  },
  {
   "cell_type": "code",
   "execution_count": null,
   "metadata": {
    "collapsed": true
   },
   "outputs": [],
   "source": [
    "from pyspark.ml.feature import StandardScaler"
   ]
  },
  {
   "cell_type": "code",
   "execution_count": null,
   "metadata": {
    "collapsed": true
   },
   "outputs": [],
   "source": [
    "scaler2 = StandardScaler().setInputCol(\"features\").setOutputCol(\"scaledFeat\").setWithStd(True).setWithMean(True)"
   ]
  },
  {
   "cell_type": "code",
   "execution_count": null,
   "metadata": {
    "collapsed": true
   },
   "outputs": [],
   "source": [
    "scaler2Model = scaler2.fit(dfVec.select(\"id\",\"features\"))"
   ]
  },
  {
   "cell_type": "code",
   "execution_count": null,
   "metadata": {},
   "outputs": [],
   "source": [
    "scaler2Model.transform(dfVec.select(\"id\",\"features\")).toPandas()[:5]"
   ]
  },
  {
   "cell_type": "markdown",
   "metadata": {},
   "source": [
    "### MinMax Scaler"
   ]
  },
  {
   "cell_type": "code",
   "execution_count": null,
   "metadata": {
    "collapsed": true
   },
   "outputs": [],
   "source": [
    "from pyspark.ml.feature import MinMaxScaler"
   ]
  },
  {
   "cell_type": "code",
   "execution_count": null,
   "metadata": {
    "collapsed": true
   },
   "outputs": [],
   "source": [
    "scaler3 = MinMaxScaler().setInputCol(\"features\").setOutputCol(\"scaledFeat\").setMin(-1.0).setMax(1.0)"
   ]
  },
  {
   "cell_type": "code",
   "execution_count": null,
   "metadata": {
    "collapsed": true
   },
   "outputs": [],
   "source": [
    "scaler3Model = scaler3.fit(dfVec.select(\"id\",\"features\"))"
   ]
  },
  {
   "cell_type": "code",
   "execution_count": null,
   "metadata": {},
   "outputs": [],
   "source": [
    "scaler3Model.transform(dfVec.select(\"id\",\"features\")).toPandas()[:5]"
   ]
  },
  {
   "cell_type": "code",
   "execution_count": null,
   "metadata": {
    "collapsed": true
   },
   "outputs": [],
   "source": [
    "sc.stop()"
   ]
  },
  {
   "cell_type": "code",
   "execution_count": null,
   "metadata": {
    "collapsed": true
   },
   "outputs": [],
   "source": []
  }
 ],
 "metadata": {
  "anaconda-cloud": {},
  "kernelspec": {
   "display_name": "Python 3",
   "language": "python",
   "name": "python3"
  },
  "language_info": {
   "codemirror_mode": {
    "name": "ipython",
    "version": 3
   },
   "file_extension": ".py",
   "mimetype": "text/x-python",
   "name": "python",
   "nbconvert_exporter": "python",
   "pygments_lexer": "ipython3",
   "version": "3.6.2"
  }
 },
 "nbformat": 4,
 "nbformat_minor": 1
}
