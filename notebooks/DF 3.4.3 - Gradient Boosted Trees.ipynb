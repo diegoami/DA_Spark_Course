{
 "cells": [
  {
   "cell_type": "code",
   "execution_count": 1,
   "metadata": {
    "collapsed": true
   },
   "outputs": [],
   "source": [
    "import pyspark\n",
    "sc = pyspark.SparkContext('local[*]')"
   ]
  },
  {
   "cell_type": "code",
   "execution_count": 2,
   "metadata": {
    "collapsed": true
   },
   "outputs": [],
   "source": [
    "!rm -rf metastore_db/*.lck\n",
    "\n",
    "from pyspark.sql import SQLContext\n",
    "sqlc = SQLContext(sc)"
   ]
  },
  {
   "cell_type": "code",
   "execution_count": 3,
   "metadata": {
    "collapsed": true
   },
   "outputs": [],
   "source": [
    "from pyspark.mllib.util import MLUtils\n",
    "\n",
    "data = MLUtils.loadLibSVMFile(sc, \"sample_libsvm_data.txt\").toDF()\n",
    "data = MLUtils.convertVectorColumnsToML(data)"
   ]
  },
  {
   "cell_type": "code",
   "execution_count": 4,
   "metadata": {},
   "outputs": [
    {
     "name": "stdout",
     "output_type": "stream",
     "text": [
      "+--------------------+-----+\n",
      "|            features|label|\n",
      "+--------------------+-----+\n",
      "|(692,[127,128,129...|  0.0|\n",
      "|(692,[158,159,160...|  1.0|\n",
      "|(692,[124,125,126...|  1.0|\n",
      "|(692,[152,153,154...|  1.0|\n",
      "|(692,[151,152,153...|  1.0|\n",
      "+--------------------+-----+\n",
      "only showing top 5 rows\n",
      "\n"
     ]
    }
   ],
   "source": [
    "data.show(5)"
   ]
  },
  {
   "cell_type": "markdown",
   "metadata": {},
   "source": [
    "## Gradient Boosted Trees"
   ]
  },
  {
   "cell_type": "markdown",
   "metadata": {},
   "source": [
    "### Classification"
   ]
  },
  {
   "cell_type": "code",
   "execution_count": 5,
   "metadata": {
    "collapsed": true
   },
   "outputs": [],
   "source": [
    "from pyspark.ml import Pipeline\n",
    "from pyspark.ml.feature import StringIndexer, IndexToString, VectorIndexer\n",
    "from pyspark.ml.classification import GBTClassifier\n",
    "from pyspark.ml.classification import GBTClassificationModel\n",
    "\n",
    "labelIndexer = StringIndexer().setInputCol(\"label\") \\\n",
    "                                .setOutputCol(\"indexedLabel\").fit(data)\n",
    "\n",
    "labelConverter = IndexToString().setInputCol(\"prediction\") \\\n",
    "                                .setOutputCol(\"predictedLabel\") \\\n",
    "                                .setLabels(labelIndexer.labels)\n",
    "\n",
    "featureIndexer = VectorIndexer().setInputCol(\"features\") \\\n",
    "                                .setOutputCol(\"indexedFeatures\") \\\n",
    "                                .setMaxCategories(4).fit(data)\n",
    "\n",
    "gbtC = GBTClassifier().setLabelCol(\"indexedLabel\").setFeaturesCol(\"indexedFeatures\").setMaxIter(10)\n",
    "\n",
    "pipelineGBTC = Pipeline().setStages([labelIndexer, featureIndexer, gbtC, labelConverter])\n",
    "\n",
    "trainingData, testData = data.randomSplit([0.7, 0.3])"
   ]
  },
  {
   "cell_type": "code",
   "execution_count": 6,
   "metadata": {},
   "outputs": [
    {
     "name": "stdout",
     "output_type": "stream",
     "text": [
      "+--------------+-----+--------------------+\n",
      "|predictedLabel|label|            features|\n",
      "+--------------+-----+--------------------+\n",
      "|           0.0|  0.0|(692,[98,99,100,1...|\n",
      "|           1.0|  1.0|(692,[119,120,121...|\n",
      "|           0.0|  0.0|(692,[122,123,124...|\n",
      "+--------------+-----+--------------------+\n",
      "only showing top 3 rows\n",
      "\n"
     ]
    }
   ],
   "source": [
    "modelGBTC = pipelineGBTC.fit(trainingData)\n",
    "\n",
    "predictionsGBTC = modelGBTC.transform(testData)\n",
    "\n",
    "predictionsGBTC.select(\"predictedLabel\", \"label\", \"features\").show(3)"
   ]
  },
  {
   "cell_type": "code",
   "execution_count": 7,
   "metadata": {},
   "outputs": [
    {
     "name": "stdout",
     "output_type": "stream",
     "text": [
      "GBTClassificationModel (uid=GBTClassifier_4cfaa6fa37ca4982c35b) with 10 trees\n",
      "  Tree 0 (weight 1.0):\n",
      "    If (feature 405 <= 0.0)\n",
      "     If (feature 99 in {2.0})\n",
      "      Predict: -1.0\n",
      "     Else (feature 99 not in {2.0})\n",
      "      Predict: 1.0\n",
      "    Else (feature 405 > 0.0)\n",
      "     Predict: -1.0\n",
      "  Tree 1 (weight 0.1):\n",
      "    If (feature 490 <= 0.0)\n",
      "     If (feature 293 <= 253.0)\n",
      "      If (feature 211 <= 251.0)\n",
      "       If (feature 127 <= 141.0)\n",
      "        If (feature 127 <= 0.0)\n",
      "         Predict: 0.4768116880884702\n",
      "        Else (feature 127 > 0.0)\n",
      "         Predict: 0.4768116880884703\n",
      "       Else (feature 127 > 141.0)\n",
      "        Predict: 0.4768116880884703\n",
      "      Else (feature 211 > 251.0)\n",
      "       Predict: 0.47681168808847024\n",
      "     Else (feature 293 > 253.0)\n",
      "      Predict: -0.4768116880884694\n",
      "    Else (feature 490 > 0.0)\n",
      "     If (feature 160 <= 30.0)\n",
      "      Predict: -0.47681168808847024\n",
      "     Else (feature 160 > 30.0)\n",
      "      Predict: -0.4768116880884712\n",
      "  Tree 2 (weight 0.1):\n",
      "    If (feature 434 <= 0.0)\n",
      "     If (feature 268 <= 253.0)\n",
      "      If (feature 182 <= 0.0)\n",
      "       Predict: 0.4381935810427206\n",
      "      Else (feature 182 > 0.0)\n",
      "       Predict: 0.43819358104272066\n",
      "     Else (feature 268 > 253.0)\n",
      "      Predict: -0.43819358104271977\n",
      "    Else (feature 434 > 0.0)\n",
      "     If (feature 132 <= 122.0)\n",
      "      Predict: -0.4381935810427206\n",
      "     Else (feature 132 > 122.0)\n",
      "      Predict: -0.43819358104272155\n",
      "  Tree 3 (weight 0.1):\n",
      "    If (feature 405 <= 0.0)\n",
      "     If (feature 568 <= 253.0)\n",
      "      Predict: 0.40514968028459836\n",
      "     Else (feature 568 > 253.0)\n",
      "      Predict: -0.4051496802845982\n",
      "    Else (feature 405 > 0.0)\n",
      "     Predict: -0.40514968028459825\n",
      "  Tree 4 (weight 0.1):\n",
      "    If (feature 405 <= 0.0)\n",
      "     If (feature 570 <= 253.0)\n",
      "      If (feature 302 <= 42.0)\n",
      "       Predict: 0.37658413183529904\n",
      "      Else (feature 302 > 42.0)\n",
      "       Predict: 0.3765841318352994\n",
      "     Else (feature 570 > 253.0)\n",
      "      Predict: -0.3765841318352994\n",
      "    Else (feature 405 > 0.0)\n",
      "     Predict: -0.37658413183529915\n",
      "  Tree 5 (weight 0.1):\n",
      "    If (feature 462 <= 0.0)\n",
      "     If (feature 351 <= 251.0)\n",
      "      If (feature 599 <= 0.0)\n",
      "       If (feature 153 <= 0.0)\n",
      "        Predict: 0.3516647895810102\n",
      "       Else (feature 153 > 0.0)\n",
      "        Predict: 0.35166478958101\n",
      "      Else (feature 599 > 0.0)\n",
      "       Predict: 0.3516647895810102\n",
      "     Else (feature 351 > 251.0)\n",
      "      Predict: -0.3516647895810099\n",
      "    Else (feature 462 > 0.0)\n",
      "     Predict: -0.35166478958101\n",
      "  Tree 6 (weight 0.1):\n",
      "    If (feature 405 <= 0.0)\n",
      "     If (feature 323 <= 251.0)\n",
      "      If (feature 243 <= 189.0)\n",
      "       If (feature 127 <= 0.0)\n",
      "        Predict: 0.32974984655529926\n",
      "       Else (feature 127 > 0.0)\n",
      "        Predict: 0.3297498465552994\n",
      "      Else (feature 243 > 189.0)\n",
      "       Predict: 0.32974984655529943\n",
      "     Else (feature 323 > 251.0)\n",
      "      Predict: -0.32974984655529926\n",
      "    Else (feature 405 > 0.0)\n",
      "     Predict: -0.32974984655529926\n",
      "  Tree 7 (weight 0.1):\n",
      "    If (feature 406 <= 72.0)\n",
      "     If (feature 99 in {2.0})\n",
      "      Predict: -0.3103372455197956\n",
      "     Else (feature 99 not in {2.0})\n",
      "      If (feature 564 in {1.0})\n",
      "       Predict: 0.3103372455197956\n",
      "      Else (feature 564 not in {1.0})\n",
      "       Predict: 0.3103372455197957\n",
      "    Else (feature 406 > 72.0)\n",
      "     If (feature 350 <= 205.0)\n",
      "      If (feature 187 <= 122.0)\n",
      "       Predict: -0.3103372455197956\n",
      "      Else (feature 187 > 122.0)\n",
      "       Predict: -0.3103372455197957\n",
      "     Else (feature 350 > 205.0)\n",
      "      Predict: -0.3103372455197957\n",
      "  Tree 8 (weight 0.1):\n",
      "    If (feature 406 <= 72.0)\n",
      "     If (feature 296 <= 253.0)\n",
      "      If (feature 325 <= 251.0)\n",
      "       If (feature 356 <= 125.0)\n",
      "        If (feature 603 <= 204.0)\n",
      "         Predict: 0.2930291649125433\n",
      "        Else (feature 603 > 204.0)\n",
      "         Predict: 0.29302916491254344\n",
      "       Else (feature 356 > 125.0)\n",
      "        Predict: 0.29302916491254355\n",
      "      Else (feature 325 > 251.0)\n",
      "       Predict: 0.2930291649125438\n",
      "     Else (feature 296 > 253.0)\n",
      "      Predict: -0.29302916491254294\n",
      "    Else (feature 406 > 72.0)\n",
      "     If (feature 350 <= 191.0)\n",
      "      Predict: -0.2930291649125433\n",
      "     Else (feature 350 > 191.0)\n",
      "      If (feature 350 <= 207.0)\n",
      "       Predict: -0.2930291649125433\n",
      "      Else (feature 350 > 207.0)\n",
      "       Predict: -0.2930291649125434\n",
      "  Tree 9 (weight 0.1):\n",
      "    If (feature 405 <= 0.0)\n",
      "     If (feature 99 in {2.0})\n",
      "      Predict: -0.27750666438358246\n",
      "     Else (feature 99 not in {2.0})\n",
      "      If (feature 576 <= 0.0)\n",
      "       If (feature 155 <= 212.0)\n",
      "        Predict: 0.2775066643835826\n",
      "       Else (feature 155 > 212.0)\n",
      "        Predict: 0.27750666438358246\n",
      "      Else (feature 576 > 0.0)\n",
      "       Predict: 0.2775066643835826\n",
      "    Else (feature 405 > 0.0)\n",
      "     If (feature 433 <= 221.0)\n",
      "      Predict: -0.2775066643835825\n",
      "     Else (feature 433 > 221.0)\n",
      "      Predict: -0.2775066643835825\n",
      "\n"
     ]
    }
   ],
   "source": [
    "gbtModelC = modelGBTC.stages[2]\n",
    "\n",
    "print(gbtModelC.toDebugString)"
   ]
  },
  {
   "cell_type": "markdown",
   "metadata": {},
   "source": [
    "### Regression"
   ]
  },
  {
   "cell_type": "code",
   "execution_count": 8,
   "metadata": {
    "collapsed": true
   },
   "outputs": [],
   "source": [
    "from pyspark.ml.regression import GBTRegressor\n",
    "from pyspark.ml.regression import GBTRegressionModel\n",
    "\n",
    "gbtR = GBTRegressor().setLabelCol(\"label\").setFeaturesCol(\"indexedFeatures\").setMaxIter(10)\n",
    "\n",
    "pipelineGBTR = Pipeline().setStages([featureIndexer, gbtR])\n",
    "\n",
    "modelGBTR = pipelineGBTR.fit(trainingData)"
   ]
  },
  {
   "cell_type": "code",
   "execution_count": 9,
   "metadata": {},
   "outputs": [
    {
     "name": "stdout",
     "output_type": "stream",
     "text": [
      "+--------------------+-----+--------------------+----------+\n",
      "|            features|label|     indexedFeatures|prediction|\n",
      "+--------------------+-----+--------------------+----------+\n",
      "|(692,[98,99,100,1...|  0.0|(692,[98,99,100,1...|       1.0|\n",
      "|(692,[119,120,121...|  1.0|(692,[119,120,121...|       1.0|\n",
      "|(692,[122,123,124...|  0.0|(692,[122,123,124...|       0.0|\n",
      "|(692,[122,123,148...|  0.0|(692,[122,123,148...|       0.0|\n",
      "|(692,[123,124,125...|  1.0|(692,[123,124,125...|       1.0|\n",
      "+--------------------+-----+--------------------+----------+\n",
      "only showing top 5 rows\n",
      "\n"
     ]
    }
   ],
   "source": [
    "predictionsGBTR = modelGBTR.transform(testData)\n",
    "predictionsGBTR.show(5)"
   ]
  },
  {
   "cell_type": "code",
   "execution_count": 10,
   "metadata": {
    "collapsed": true
   },
   "outputs": [],
   "source": [
    "sc.stop()"
   ]
  },
  {
   "cell_type": "code",
   "execution_count": null,
   "metadata": {
    "collapsed": true
   },
   "outputs": [],
   "source": []
  }
 ],
 "metadata": {
  "anaconda-cloud": {},
  "kernelspec": {
   "display_name": "Python 3",
   "language": "python",
   "name": "python3"
  },
  "language_info": {
   "codemirror_mode": {
    "name": "ipython",
    "version": 3
   },
   "file_extension": ".py",
   "mimetype": "text/x-python",
   "name": "python",
   "nbconvert_exporter": "python",
   "pygments_lexer": "ipython3",
   "version": "3.6.2"
  }
 },
 "nbformat": 4,
 "nbformat_minor": 1
}
