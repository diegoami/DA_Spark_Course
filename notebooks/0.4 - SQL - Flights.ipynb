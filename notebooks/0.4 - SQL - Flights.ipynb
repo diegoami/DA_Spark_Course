{
 "cells": [
  {
   "cell_type": "code",
   "execution_count": 1,
   "metadata": {
    "collapsed": true
   },
   "outputs": [],
   "source": [
    "import pyspark\n",
    "sc = pyspark.SparkContext('local[*]')"
   ]
  },
  {
   "cell_type": "markdown",
   "metadata": {},
   "source": [
    "# Spark SQLContext"
   ]
  },
  {
   "cell_type": "markdown",
   "metadata": {},
   "source": [
    "## Documentation: https://spark.apache.org/docs/latest/api/python/pyspark.sql.html"
   ]
  },
  {
   "cell_type": "markdown",
   "metadata": {},
   "source": [
    "Initilizing SQLContext"
   ]
  },
  {
   "cell_type": "code",
   "execution_count": 2,
   "metadata": {
    "collapsed": true
   },
   "outputs": [],
   "source": [
    "!rm -rf metastore_db/\n",
    "from pyspark.sql import SQLContext\n",
    "sqlContext = SQLContext(sc)"
   ]
  },
  {
   "cell_type": "markdown",
   "metadata": {},
   "source": [
    "## Creating user-defined functions"
   ]
  },
  {
   "cell_type": "markdown",
   "metadata": {},
   "source": [
    "To use RDD in SQLContext, RDD lines have to be converted into a Row format"
   ]
  },
  {
   "cell_type": "code",
   "execution_count": 3,
   "metadata": {
    "collapsed": true
   },
   "outputs": [],
   "source": [
    "import re\n",
    "from pyspark.sql import Row\n",
    "# Read from CSV\n",
    "def load_csv(line):\n",
    "    return re.split(\"\\\"?,\\\"?\", line)\n",
    "        \n",
    "def readInt(x):\n",
    "    try:\n",
    "        return int(x)\n",
    "    except:\n",
    "        return x\n",
    "\n",
    "def parseElement(e):\n",
    "    return Row(year=readInt(e[0]),\n",
    "    month=readInt(e[1]),\n",
    "    day=readInt(e[2]),\n",
    "    dep_time=readInt(e[3]),\n",
    "    dep_delay=readInt(e[4]),\n",
    "    arr_time=readInt(e[5]),\n",
    "    arr_delay=readInt(e[6]),\n",
    "    cancelled=e[7],\n",
    "    carrier=e[8],\n",
    "    tailnum=e[9],\n",
    "    flight=readInt(e[10]),\n",
    "    origin=e[11],\n",
    "    dest=e[12],\n",
    "    air_time=readInt(e[13]),\n",
    "    distance=readInt(e[14]),\n",
    "    hour=readInt(e[15]),\n",
    "    min=readInt(e[16])\n",
    "    )"
   ]
  },
  {
   "cell_type": "code",
   "execution_count": 4,
   "metadata": {},
   "outputs": [
    {
     "name": "stdout",
     "output_type": "stream",
     "text": [
      "--2017-10-13 16:47:23--  https://dsr-data.s3.amazonaws.com/flights/flights14.csv\n",
      "Resolving dsr-data.s3.amazonaws.com (dsr-data.s3.amazonaws.com)... 52.219.73.10\n",
      "Connecting to dsr-data.s3.amazonaws.com (dsr-data.s3.amazonaws.com)|52.219.73.10|:443... connected.\n",
      "HTTP request sent, awaiting response... 200 OK\n",
      "Length: 16150465 (15M) [text/csv]\n",
      "Saving to: ‘flights14.csv.2’\n",
      "\n",
      "flights14.csv.2     100%[===================>]  15,40M  4,94MB/s    in 3,1s    \n",
      "\n",
      "2017-10-13 16:47:27 (4,94 MB/s) - ‘flights14.csv.2’ saved [16150465/16150465]\n",
      "\n"
     ]
    }
   ],
   "source": [
    "!wget https://dsr-data.s3.amazonaws.com/flights/flights14.csv"
   ]
  },
  {
   "cell_type": "code",
   "execution_count": 5,
   "metadata": {
    "collapsed": true
   },
   "outputs": [],
   "source": [
    "flights = sc.textFile(\"flights14.csv\").map(load_csv).filter(lambda e: not e[0] == \"year\").map(parseElement).cache()"
   ]
  },
  {
   "cell_type": "markdown",
   "metadata": {},
   "source": [
    "Now the schema and the RDD have to be registered with the sqlContext:"
   ]
  },
  {
   "cell_type": "code",
   "execution_count": 6,
   "metadata": {
    "collapsed": true,
    "scrolled": false
   },
   "outputs": [],
   "source": [
    "flightsDF = sqlContext.createDataFrame(flights)"
   ]
  },
  {
   "cell_type": "code",
   "execution_count": 7,
   "metadata": {
    "collapsed": true
   },
   "outputs": [],
   "source": [
    "flightsDF.createOrReplaceTempView(\"flight\")"
   ]
  },
  {
   "cell_type": "code",
   "execution_count": 8,
   "metadata": {},
   "outputs": [
    {
     "data": {
      "text/plain": [
       "[Row(air_time=359, arr_delay=13, arr_time=1238, cancelled='0', carrier='AA', day=1, dep_delay=14, dep_time=914, dest='LAX', distance=2475, flight=1, hour=9, min=14, month=1, origin='JFK', tailnum='N338AA', year=2014),\n",
       " Row(air_time=363, arr_delay=13, arr_time=1523, cancelled='0', carrier='AA', day=1, dep_delay=-3, dep_time=1157, dest='LAX', distance=2475, flight=3, hour=11, min=57, month=1, origin='JFK', tailnum='N335AA', year=2014),\n",
       " Row(air_time=351, arr_delay=9, arr_time=2224, cancelled='0', carrier='AA', day=1, dep_delay=2, dep_time=1902, dest='LAX', distance=2475, flight=21, hour=19, min=2, month=1, origin='JFK', tailnum='N327AA', year=2014),\n",
       " Row(air_time=350, arr_delay=1, arr_time=1706, cancelled='0', carrier='AA', day=1, dep_delay=2, dep_time=1347, dest='LAX', distance=2475, flight=117, hour=13, min=47, month=1, origin='JFK', tailnum='N319AA', year=2014),\n",
       " Row(air_time=339, arr_delay=0, arr_time=2145, cancelled='0', carrier='AA', day=1, dep_delay=4, dep_time=1824, dest='LAX', distance=2454, flight=119, hour=18, min=24, month=1, origin='EWR', tailnum='N3DEAA', year=2014)]"
      ]
     },
     "execution_count": 8,
     "metadata": {},
     "output_type": "execute_result"
    }
   ],
   "source": [
    "sqlContext.sql(\"select * from flight where dest = 'LAX'\").take(5)"
   ]
  },
  {
   "cell_type": "code",
   "execution_count": 9,
   "metadata": {},
   "outputs": [
    {
     "data": {
      "text/plain": [
       "2750"
      ]
     },
     "execution_count": 9,
     "metadata": {},
     "output_type": "execute_result"
    }
   ],
   "source": [
    "flightsDF.where(\"origin = 'JFK' AND dest = 'MIA'\").count()"
   ]
  },
  {
   "cell_type": "code",
   "execution_count": 10,
   "metadata": {},
   "outputs": [
    {
     "data": {
      "text/plain": [
       "[Row(air_time=161, arr_delay=-17, arr_time=1828, cancelled='0', carrier='AA', day=1, dep_delay=-1, dep_time=1509, dest='MIA', distance=1089, flight=145, hour=15, min=9, month=1, origin='JFK', tailnum='N5FJAA', year=2014),\n",
       " Row(air_time=166, arr_delay=-8, arr_time=1227, cancelled='0', carrier='AA', day=1, dep_delay=7, dep_time=917, dest='MIA', distance=1089, flight=1085, hour=9, min=17, month=1, origin='JFK', tailnum='N5DWAA', year=2014)]"
      ]
     },
     "execution_count": 10,
     "metadata": {},
     "output_type": "execute_result"
    }
   ],
   "source": [
    "flightsDF.where(\"origin = 'JFK' AND dest = 'MIA'\").limit(2).collect()"
   ]
  },
  {
   "cell_type": "markdown",
   "metadata": {
    "collapsed": true
   },
   "source": [
    "### Count the flights that departed early and arrived late"
   ]
  },
  {
   "cell_type": "code",
   "execution_count": 14,
   "metadata": {},
   "outputs": [
    {
     "data": {
      "text/plain": [
       "[Row(air_time=363, arr_delay=13, arr_time=1523, cancelled='0', carrier='AA', day=1, dep_delay=-3, dep_time=1157, dest='LAX', distance=2475, flight=3, hour=11, min=57, month=1, origin='JFK', tailnum='N335AA', year=2014),\n",
       " Row(air_time=232, arr_delay=1, arr_time=2036, cancelled='0', carrier='AA', day=1, dep_delay=-1, dep_time=1714, dest='AUS', distance=1521, flight=291, hour=17, min=14, month=1, origin='JFK', tailnum='N3DVAA', year=2014),\n",
       " Row(air_time=145, arr_delay=15, arr_time=940, cancelled='0', carrier='AA', day=1, dep_delay=-2, dep_time=738, dest='ORD', distance=733, flight=307, hour=7, min=38, month=1, origin='LGA', tailnum='N3GMAA', year=2014),\n",
       " Row(air_time=139, arr_delay=1, arr_time=1036, cancelled='0', carrier='AA', day=1, dep_delay=-3, dep_time=847, dest='ORD', distance=733, flight=313, hour=8, min=47, month=1, origin='LGA', tailnum='N553AA', year=2014),\n",
       " Row(air_time=145, arr_delay=24, arr_time=1349, cancelled='0', carrier='AA', day=1, dep_delay=-5, dep_time=1140, dest='ORD', distance=733, flight=327, hour=11, min=40, month=1, origin='LGA', tailnum='N570AA', year=2014)]"
      ]
     },
     "execution_count": 14,
     "metadata": {},
     "output_type": "execute_result"
    }
   ],
   "source": [
    "flightsDF.where(\"dep_delay < 0 AND arr_delay > 0\").limit(5).collect()"
   ]
  },
  {
   "cell_type": "markdown",
   "metadata": {},
   "source": [
    "### Find the flightwith the longest arrival delay"
   ]
  },
  {
   "cell_type": "code",
   "execution_count": 23,
   "metadata": {},
   "outputs": [
    {
     "data": {
      "text/plain": [
       "[Row(air_time=200, arr_delay=1494, arr_time=1008, cancelled='0', carrier='AA', day=4, dep_delay=1498, dep_time=727, dest='DFW', distance=1372, flight=1381, hour=7, min=27, month=10, origin='EWR', tailnum='N4WJAA', year=2014)]"
      ]
     },
     "execution_count": 23,
     "metadata": {},
     "output_type": "execute_result"
    }
   ],
   "source": [
    "sqlContext.sql(\"SELECT * from flight where arr_delay = (SELECT  MAX(arr_delay) FROM flight)\").collect()"
   ]
  },
  {
   "cell_type": "markdown",
   "metadata": {},
   "source": [
    "### Find the top 10 destinations ordered by the number of flights"
   ]
  },
  {
   "cell_type": "code",
   "execution_count": 24,
   "metadata": {},
   "outputs": [
    {
     "data": {
      "text/plain": [
       "[Row(dest='LAX', cnt=14434),\n",
       " Row(dest='ATL', cnt=12808),\n",
       " Row(dest='SFO', cnt=11907),\n",
       " Row(dest='MCO', cnt=11709),\n",
       " Row(dest='BOS', cnt=11609),\n",
       " Row(dest='ORD', cnt=11589),\n",
       " Row(dest='MIA', cnt=9928),\n",
       " Row(dest='CLT', cnt=9624),\n",
       " Row(dest='FLL', cnt=9471),\n",
       " Row(dest='DCA', cnt=6748)]"
      ]
     },
     "execution_count": 24,
     "metadata": {},
     "output_type": "execute_result"
    }
   ],
   "source": [
    "sqlContext.sql(\"SELECT dest, count(*) cnt from flight group by dest order by cnt desc\").limit(10).collect()"
   ]
  },
  {
   "cell_type": "markdown",
   "metadata": {},
   "source": [
    "### Find top 10 destinations with the worst avg arrival delay, ignoring flights that arrived early"
   ]
  },
  {
   "cell_type": "code",
   "execution_count": 26,
   "metadata": {},
   "outputs": [
    {
     "data": {
      "text/plain": [
       "[Row(dest='EGE', avg=78.03174603174604),\n",
       " Row(dest='AVP', avg=67.0),\n",
       " Row(dest='CAK', avg=55.86141304347826),\n",
       " Row(dest='TUL', avg=55.122950819672134),\n",
       " Row(dest='MSN', avg=53.32692307692308),\n",
       " Row(dest='BGR', avg=52.28813559322034),\n",
       " Row(dest='OKC', avg=51.3609022556391),\n",
       " Row(dest='IAD', avg=51.200559049615656),\n",
       " Row(dest='JAC', avg=51.142857142857146),\n",
       " Row(dest='TVC', avg=49.64705882352941)]"
      ]
     },
     "execution_count": 26,
     "metadata": {},
     "output_type": "execute_result"
    }
   ],
   "source": [
    "sqlContext.sql(\"SELECT dest, avg(arr_delay) avg from flight where arr_delay >= 0 group by dest order by avg desc\").limit(10).collect()"
   ]
  },
  {
   "cell_type": "markdown",
   "metadata": {},
   "source": [
    "### Take a sample of 1% of the flights and then calculate the average departure delay for that sample"
   ]
  },
  {
   "cell_type": "code",
   "execution_count": 36,
   "metadata": {},
   "outputs": [],
   "source": [
    "flightsDF.sample(False, 0.01, None).createOrReplaceTempView(\"flight_one\")"
   ]
  },
  {
   "cell_type": "code",
   "execution_count": 37,
   "metadata": {},
   "outputs": [
    {
     "data": {
      "text/plain": [
       "[Row(count(1)=253316)]"
      ]
     },
     "execution_count": 37,
     "metadata": {},
     "output_type": "execute_result"
    }
   ],
   "source": [
    "sqlContext.sql(\"SELECT count(*) from flight\").collect()"
   ]
  },
  {
   "cell_type": "code",
   "execution_count": 38,
   "metadata": {},
   "outputs": [
    {
     "data": {
      "text/plain": [
       "[Row(count(1)=2539)]"
      ]
     },
     "execution_count": 38,
     "metadata": {},
     "output_type": "execute_result"
    }
   ],
   "source": [
    "sqlContext.sql(\"SELECT count(*) from flight_one\").collect()"
   ]
  },
  {
   "cell_type": "code",
   "execution_count": 39,
   "metadata": {},
   "outputs": [
    {
     "data": {
      "text/plain": [
       "[Row(avg(dep_delay)=12.461992910594722)]"
      ]
     },
     "execution_count": 39,
     "metadata": {},
     "output_type": "execute_result"
    }
   ],
   "source": [
    "sqlContext.sql(\"SELECT avg(dep_delay) from flight_one\").collect()"
   ]
  },
  {
   "cell_type": "markdown",
   "metadata": {},
   "source": [
    "### For all flights from JFK during June, show the average departure delay for each destination"
   ]
  },
  {
   "cell_type": "code",
   "execution_count": null,
   "metadata": {
    "collapsed": true
   },
   "outputs": [],
   "source": []
  },
  {
   "cell_type": "code",
   "execution_count": 30,
   "metadata": {},
   "outputs": [
    {
     "data": {
      "text/plain": [
       "[Row(dest='MSP', avg=28.69047619047619),\n",
       " Row(dest='SMF', avg=22.96551724137931),\n",
       " Row(dest='OAK', avg=22.75862068965517),\n",
       " Row(dest='DEN', avg=19.083333333333332),\n",
       " Row(dest='JAX', avg=18.49425287356322),\n",
       " Row(dest='CVG', avg=17.571428571428573),\n",
       " Row(dest='SAT', avg=17.17241379310345),\n",
       " Row(dest='PSE', avg=17.133333333333333),\n",
       " Row(dest='BUR', avg=16.428571428571427),\n",
       " Row(dest='SLC', avg=14.965909090909092),\n",
       " Row(dest='RSW', avg=14.913793103448276),\n",
       " Row(dest='BNA', avg=14.172413793103448),\n",
       " Row(dest='ATL', avg=13.491620111731844),\n",
       " Row(dest='IAD', avg=13.333333333333334),\n",
       " Row(dest='BOS', avg=13.006864988558352),\n",
       " Row(dest='BUF', avg=12.900826446280991),\n",
       " Row(dest='SAN', avg=12.286713286713287),\n",
       " Row(dest='SJC', avg=12.241379310344827),\n",
       " Row(dest='ORD', avg=12.136054421768707),\n",
       " Row(dest='CLT', avg=12.104803493449781),\n",
       " Row(dest='CMH', avg=11.862068965517242),\n",
       " Row(dest='SYR', avg=11.656862745098039),\n",
       " Row(dest='SEA', avg=11.639024390243902),\n",
       " Row(dest='TPA', avg=11.58235294117647),\n",
       " Row(dest='BQN', avg=11.266666666666667),\n",
       " Row(dest='MSY', avg=10.96629213483146),\n",
       " Row(dest='SFO', avg=10.873850197109068),\n",
       " Row(dest='ORF', avg=10.678571428571429),\n",
       " Row(dest='AUS', avg=10.537931034482758),\n",
       " Row(dest='CLE', avg=10.25),\n",
       " Row(dest='FLL', avg=10.187290969899665),\n",
       " Row(dest='LGB', avg=10.172413793103448),\n",
       " Row(dest='PBI', avg=10.10344827586207),\n",
       " Row(dest='ROC', avg=10.017699115044248),\n",
       " Row(dest='IND', avg=9.925925925925926),\n",
       " Row(dest='PHX', avg=9.714285714285714),\n",
       " Row(dest='LAS', avg=9.663841807909604),\n",
       " Row(dest='DFW', avg=9.101694915254237),\n",
       " Row(dest='SJU', avg=8.947368421052632),\n",
       " Row(dest='PDX', avg=8.267441860465116),\n",
       " Row(dest='MCO', avg=7.70509977827051),\n",
       " Row(dest='RDU', avg=7.691489361702128),\n",
       " Row(dest='PWM', avg=7.4453125),\n",
       " Row(dest='BWI', avg=6.896551724137931),\n",
       " Row(dest='LAX', avg=6.699814126394052),\n",
       " Row(dest='CHS', avg=6.4),\n",
       " Row(dest='ABQ', avg=5.7),\n",
       " Row(dest='DCA', avg=5.372781065088757),\n",
       " Row(dest='BTV', avg=4.851851851851852),\n",
       " Row(dest='SAV', avg=4.267857142857143),\n",
       " Row(dest='MIA', avg=4.007490636704119),\n",
       " Row(dest='MVY', avg=3.7666666666666666),\n",
       " Row(dest='HOU', avg=3.4745762711864407),\n",
       " Row(dest='STT', avg=1.1454545454545455),\n",
       " Row(dest='ACK', avg=1.0980392156862746),\n",
       " Row(dest='HYA', avg=-1.6),\n",
       " Row(dest='HNL', avg=-1.7586206896551724),\n",
       " Row(dest='PIT', avg=-1.96),\n",
       " Row(dest='SRQ', avg=-2.533333333333333),\n",
       " Row(dest='DTW', avg=-4.75)]"
      ]
     },
     "execution_count": 30,
     "metadata": {},
     "output_type": "execute_result"
    }
   ],
   "source": [
    "sqlContext.sql(\"SELECT dest, avg(dep_delay) avg from flight where month = 6 and origin='JFK' group by dest  order by avg desc\").collect()"
   ]
  },
  {
   "cell_type": "markdown",
   "metadata": {},
   "source": [
    "### For every origin/dest pair, count the number of flights"
   ]
  },
  {
   "cell_type": "code",
   "execution_count": 31,
   "metadata": {},
   "outputs": [
    {
     "data": {
      "text/plain": [
       "[Row(dest='LAX', origin='JFK', cnt=10208),\n",
       " Row(dest='SFO', origin='JFK', cnt=7368),\n",
       " Row(dest='ORD', origin='LGA', cnt=7052),\n",
       " Row(dest='ATL', origin='LGA', cnt=6925),\n",
       " Row(dest='MIA', origin='LGA', cnt=5084),\n",
       " Row(dest='SFO', origin='EWR', cnt=4539),\n",
       " Row(dest='MCO', origin='JFK', cnt=4467),\n",
       " Row(dest='BOS', origin='EWR', cnt=4268),\n",
       " Row(dest='LAX', origin='EWR', cnt=4226),\n",
       " Row(dest='ATL', origin='EWR', cnt=4182),\n",
       " Row(dest='MCO', origin='EWR', cnt=4164),\n",
       " Row(dest='BOS', origin='JFK', cnt=4111),\n",
       " Row(dest='SJU', origin='JFK', cnt=4027),\n",
       " Row(dest='CLT', origin='EWR', cnt=3921),\n",
       " Row(dest='DFW', origin='LGA', cnt=3789),\n",
       " Row(dest='DCA', origin='LGA', cnt=3753),\n",
       " Row(dest='DTW', origin='LGA', cnt=3663),\n",
       " Row(dest='CLT', origin='LGA', cnt=3431),\n",
       " Row(dest='LAS', origin='JFK', cnt=3355),\n",
       " Row(dest='FLL', origin='LGA', cnt=3304),\n",
       " Row(dest='ORD', origin='EWR', cnt=3272),\n",
       " Row(dest='FLL', origin='JFK', cnt=3258),\n",
       " Row(dest='BOS', origin='LGA', cnt=3230),\n",
       " Row(dest='MCO', origin='LGA', cnt=3078),\n",
       " Row(dest='IAH', origin='EWR', cnt=3073),\n",
       " Row(dest='DEN', origin='LGA', cnt=2939),\n",
       " Row(dest='FLL', origin='EWR', cnt=2909),\n",
       " Row(dest='MIA', origin='JFK', cnt=2750),\n",
       " Row(dest='BNA', origin='LGA', cnt=2600),\n",
       " Row(dest='RDU', origin='LGA', cnt=2499),\n",
       " Row(dest='IAH', origin='LGA', cnt=2346),\n",
       " Row(dest='PBI', origin='LGA', cnt=2307),\n",
       " Row(dest='CLT', origin='JFK', cnt=2272),\n",
       " Row(dest='DEN', origin='EWR', cnt=2243),\n",
       " Row(dest='DFW', origin='EWR', cnt=2224),\n",
       " Row(dest='MSP', origin='LGA', cnt=2220),\n",
       " Row(dest='BUF', origin='JFK', cnt=2164),\n",
       " Row(dest='DTW', origin='EWR', cnt=2149),\n",
       " Row(dest='CLE', origin='LGA', cnt=2111),\n",
       " Row(dest='MIA', origin='EWR', cnt=2094),\n",
       " Row(dest='STL', origin='LGA', cnt=2065),\n",
       " Row(dest='TPA', origin='JFK', cnt=2019),\n",
       " Row(dest='PHX', origin='EWR', cnt=2002),\n",
       " Row(dest='MDW', origin='LGA', cnt=1937),\n",
       " Row(dest='PBI', origin='EWR', cnt=1874),\n",
       " Row(dest='TPA', origin='LGA', cnt=1852),\n",
       " Row(dest='TPA', origin='EWR', cnt=1833),\n",
       " Row(dest='CMH', origin='LGA', cnt=1816),\n",
       " Row(dest='SEA', origin='JFK', cnt=1815),\n",
       " Row(dest='BNA', origin='EWR', cnt=1797),\n",
       " Row(dest='PHX', origin='JFK', cnt=1784),\n",
       " Row(dest='RDU', origin='JFK', cnt=1770),\n",
       " Row(dest='STL', origin='EWR', cnt=1740),\n",
       " Row(dest='SLC', origin='JFK', cnt=1706),\n",
       " Row(dest='ATL', origin='JFK', cnt=1701),\n",
       " Row(dest='DCA', origin='JFK', cnt=1686),\n",
       " Row(dest='IAD', origin='JFK', cnt=1604),\n",
       " Row(dest='LAS', origin='EWR', cnt=1555),\n",
       " Row(dest='MDW', origin='EWR', cnt=1537),\n",
       " Row(dest='MSP', origin='EWR', cnt=1485),\n",
       " Row(dest='SAN', origin='JFK', cnt=1402),\n",
       " Row(dest='AUS', origin='JFK', cnt=1370),\n",
       " Row(dest='SEA', origin='EWR', cnt=1364),\n",
       " Row(dest='PBI', origin='JFK', cnt=1362),\n",
       " Row(dest='DCA', origin='EWR', cnt=1309),\n",
       " Row(dest='ORD', origin='JFK', cnt=1265),\n",
       " Row(dest='IND', origin='EWR', cnt=1239),\n",
       " Row(dest='CVG', origin='EWR', cnt=1187),\n",
       " Row(dest='RIC', origin='EWR', cnt=1183),\n",
       " Row(dest='MKE', origin='LGA', cnt=1176),\n",
       " Row(dest='CLE', origin='EWR', cnt=1171),\n",
       " Row(dest='RSW', origin='EWR', cnt=1160),\n",
       " Row(dest='RIC', origin='LGA', cnt=1135),\n",
       " Row(dest='IAD', origin='LGA', cnt=1091),\n",
       " Row(dest='PWM', origin='JFK', cnt=1076),\n",
       " Row(dest='ROC', origin='JFK', cnt=1036),\n",
       " Row(dest='ORF', origin='LGA', cnt=1014),\n",
       " Row(dest='BTV', origin='JFK', cnt=1004),\n",
       " Row(dest='JAX', origin='EWR', cnt=998),\n",
       " Row(dest='MCI', origin='EWR', cnt=995),\n",
       " Row(dest='CHS', origin='EWR', cnt=986),\n",
       " Row(dest='MSY', origin='EWR', cnt=982),\n",
       " Row(dest='SJU', origin='EWR', cnt=949),\n",
       " Row(dest='SYR', origin='JFK', cnt=937),\n",
       " Row(dest='MSY', origin='JFK', cnt=908),\n",
       " Row(dest='HOU', origin='LGA', cnt=905),\n",
       " Row(dest='SAN', origin='EWR', cnt=884),\n",
       " Row(dest='GSO', origin='LGA', cnt=868),\n",
       " Row(dest='RSW', origin='JFK', cnt=856),\n",
       " Row(dest='JAX', origin='JFK', cnt=843),\n",
       " Row(dest='HOU', origin='EWR', cnt=784),\n",
       " Row(dest='CMH', origin='EWR', cnt=763),\n",
       " Row(dest='RDU', origin='EWR', cnt=741),\n",
       " Row(dest='MSY', origin='LGA', cnt=738),\n",
       " Row(dest='PDX', origin='JFK', cnt=725),\n",
       " Row(dest='CAK', origin='LGA', cnt=708),\n",
       " Row(dest='PHL', origin='LGA', cnt=702),\n",
       " Row(dest='MKE', origin='EWR', cnt=676),\n",
       " Row(dest='MEM', origin='EWR', cnt=660),\n",
       " Row(dest='SNA', origin='EWR', cnt=657),\n",
       " Row(dest='GSO', origin='EWR', cnt=644),\n",
       " Row(dest='IAD', origin='EWR', cnt=629),\n",
       " Row(dest='CHS', origin='JFK', cnt=587),\n",
       " Row(dest='DEN', origin='JFK', cnt=579),\n",
       " Row(dest='CMH', origin='JFK', cnt=576),\n",
       " Row(dest='CHS', origin='LGA', cnt=574),\n",
       " Row(dest='HOU', origin='JFK', cnt=570),\n",
       " Row(dest='RSW', origin='LGA', cnt=569),\n",
       " Row(dest='AUS', origin='EWR', cnt=568),\n",
       " Row(dest='DAY', origin='EWR', cnt=566),\n",
       " Row(dest='SAV', origin='EWR', cnt=557),\n",
       " Row(dest='OMA', origin='EWR', cnt=544),\n",
       " Row(dest='SDF', origin='LGA', cnt=542),\n",
       " Row(dest='BQN', origin='JFK', cnt=535),\n",
       " Row(dest='SDF', origin='EWR', cnt=529),\n",
       " Row(dest='LGB', origin='JFK', cnt=526),\n",
       " Row(dest='GSP', origin='EWR', cnt=518),\n",
       " Row(dest='SAV', origin='JFK', cnt=514),\n",
       " Row(dest='ROC', origin='EWR', cnt=504),\n",
       " Row(dest='SRQ', origin='LGA', cnt=496),\n",
       " Row(dest='GRR', origin='EWR', cnt=490),\n",
       " Row(dest='DAY', origin='LGA', cnt=490),\n",
       " Row(dest='DFW', origin='JFK', cnt=474),\n",
       " Row(dest='MSP', origin='JFK', cnt=458),\n",
       " Row(dest='STT', origin='JFK', cnt=450),\n",
       " Row(dest='XNA', origin='LGA', cnt=441),\n",
       " Row(dest='PDX', origin='EWR', cnt=418),\n",
       " Row(dest='MCI', origin='LGA', cnt=406),\n",
       " Row(dest='PWM', origin='EWR', cnt=392),\n",
       " Row(dest='PIT', origin='JFK', cnt=384),\n",
       " Row(dest='CAE', origin='LGA', cnt=382),\n",
       " Row(dest='SRQ', origin='JFK', cnt=370),\n",
       " Row(dest='SAV', origin='LGA', cnt=368),\n",
       " Row(dest='PIT', origin='EWR', cnt=353),\n",
       " Row(dest='BUF', origin='EWR', cnt=334),\n",
       " Row(dest='SYR', origin='LGA', cnt=332),\n",
       " Row(dest='CHO', origin='LGA', cnt=329),\n",
       " Row(dest='MHT', origin='EWR', cnt=324),\n",
       " Row(dest='HNL', origin='EWR', cnt=301),\n",
       " Row(dest='BTV', origin='EWR', cnt=300),\n",
       " Row(dest='PSE', origin='JFK', cnt=289),\n",
       " Row(dest='BUR', origin='JFK', cnt=289),\n",
       " Row(dest='SLC', origin='EWR', cnt=285),\n",
       " Row(dest='BNA', origin='JFK', cnt=284),\n",
       " Row(dest='ORF', origin='JFK', cnt=282),\n",
       " Row(dest='BWI', origin='JFK', cnt=282),\n",
       " Row(dest='CVG', origin='JFK', cnt=282),\n",
       " Row(dest='MSN', origin='EWR', cnt=280),\n",
       " Row(dest='CLE', origin='JFK', cnt=280),\n",
       " Row(dest='IND', origin='JFK', cnt=278),\n",
       " Row(dest='ABQ', origin='JFK', cnt=278),\n",
       " Row(dest='ACK', origin='JFK', cnt=277),\n",
       " Row(dest='BGR', origin='LGA', cnt=274),\n",
       " Row(dest='GRR', origin='LGA', cnt=266),\n",
       " Row(dest='PIT', origin='LGA', cnt=262),\n",
       " Row(dest='HNL', origin='JFK', cnt=260),\n",
       " Row(dest='ROC', origin='LGA', cnt=254),\n",
       " Row(dest='SJC', origin='JFK', cnt=252),\n",
       " Row(dest='BQN', origin='EWR', cnt=251),\n",
       " Row(dest='OAK', origin='JFK', cnt=247),\n",
       " Row(dest='SMF', origin='JFK', cnt=246),\n",
       " Row(dest='SAT', origin='JFK', cnt=242),\n",
       " Row(dest='TYS', origin='EWR', cnt=238),\n",
       " Row(dest='BTV', origin='LGA', cnt=229),\n",
       " Row(dest='ILM', origin='LGA', cnt=223),\n",
       " Row(dest='OKC', origin='EWR', cnt=223),\n",
       " Row(dest='ORF', origin='EWR', cnt=211),\n",
       " Row(dest='BDL', origin='EWR', cnt=210),\n",
       " Row(dest='SAT', origin='EWR', cnt=205),\n",
       " Row(dest='LIT', origin='LGA', cnt=204),\n",
       " Row(dest='TUL', origin='EWR', cnt=201),\n",
       " Row(dest='DTW', origin='JFK', cnt=198),\n",
       " Row(dest='XNA', origin='EWR', cnt=195),\n",
       " Row(dest='MSN', origin='LGA', cnt=188),\n",
       " Row(dest='BWI', origin='EWR', cnt=185),\n",
       " Row(dest='DSM', origin='EWR', cnt=179),\n",
       " Row(dest='STT', origin='EWR', cnt=174),\n",
       " Row(dest='ALB', origin='EWR', cnt=169),\n",
       " Row(dest='PVD', origin='EWR', cnt=169),\n",
       " Row(dest='BUF', origin='LGA', cnt=169),\n",
       " Row(dest='TYS', origin='LGA', cnt=167),\n",
       " Row(dest='MVY', origin='JFK', cnt=159),\n",
       " Row(dest='MHT', origin='LGA', cnt=146),\n",
       " Row(dest='AVL', origin='EWR', cnt=145),\n",
       " Row(dest='PWM', origin='LGA', cnt=131),\n",
       " Row(dest='ROA', origin='LGA', cnt=125),\n",
       " Row(dest='BHM', origin='LGA', cnt=124),\n",
       " Row(dest='OMA', origin='LGA', cnt=87),\n",
       " Row(dest='SYR', origin='EWR', cnt=86),\n",
       " Row(dest='EGE', origin='JFK', cnt=85),\n",
       " Row(dest='EGE', origin='EWR', cnt=80),\n",
       " Row(dest='CVG', origin='LGA', cnt=78),\n",
       " Row(dest='HYA', origin='JFK', cnt=75),\n",
       " Row(dest='JAX', origin='LGA', cnt=67),\n",
       " Row(dest='BZN', origin='EWR', cnt=51),\n",
       " Row(dest='IND', origin='LGA', cnt=49),\n",
       " Row(dest='TVC', origin='LGA', cnt=36),\n",
       " Row(dest='EYW', origin='LGA', cnt=32),\n",
       " Row(dest='CAE', origin='EWR', cnt=21),\n",
       " Row(dest='TVC', origin='EWR', cnt=20),\n",
       " Row(dest='JAC', origin='EWR', cnt=19),\n",
       " Row(dest='PSP', origin='JFK', cnt=17),\n",
       " Row(dest='BZN', origin='LGA', cnt=15),\n",
       " Row(dest='DAL', origin='LGA', cnt=15),\n",
       " Row(dest='ANC', origin='EWR', cnt=13),\n",
       " Row(dest='HDN', origin='EWR', cnt=13),\n",
       " Row(dest='MTJ', origin='EWR', cnt=12),\n",
       " Row(dest='MYR', origin='LGA', cnt=11),\n",
       " Row(dest='PHL', origin='EWR', cnt=7),\n",
       " Row(dest='IAH', origin='JFK', cnt=7),\n",
       " Row(dest='SBN', origin='EWR', cnt=6),\n",
       " Row(dest='MDT', origin='EWR', cnt=5),\n",
       " Row(dest='GSP', origin='LGA', cnt=3),\n",
       " Row(dest='MEM', origin='LGA', cnt=3),\n",
       " Row(dest='AGS', origin='LGA', cnt=3),\n",
       " Row(dest='SBN', origin='LGA', cnt=2),\n",
       " Row(dest='AVL', origin='LGA', cnt=2),\n",
       " Row(dest='PHL', origin='JFK', cnt=1),\n",
       " Row(dest='JAC', origin='JFK', cnt=1),\n",
       " Row(dest='AVP', origin='EWR', cnt=1),\n",
       " Row(dest='DSM', origin='LGA', cnt=1)]"
      ]
     },
     "execution_count": 31,
     "metadata": {},
     "output_type": "execute_result"
    }
   ],
   "source": [
    "sqlContext.sql(\"SELECT dest, origin, count(*) cnt from flight group by dest, origin order by cnt desc\").collect()"
   ]
  },
  {
   "cell_type": "code",
   "execution_count": null,
   "metadata": {
    "collapsed": true
   },
   "outputs": [],
   "source": []
  }
 ],
 "metadata": {
  "anaconda-cloud": {},
  "kernelspec": {
   "display_name": "Python 3",
   "language": "python",
   "name": "python3"
  },
  "language_info": {
   "codemirror_mode": {
    "name": "ipython",
    "version": 3
   },
   "file_extension": ".py",
   "mimetype": "text/x-python",
   "name": "python",
   "nbconvert_exporter": "python",
   "pygments_lexer": "ipython3",
   "version": "3.6.2"
  }
 },
 "nbformat": 4,
 "nbformat_minor": 1
}
